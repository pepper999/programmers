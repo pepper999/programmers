{
 "cells": [
  {
   "cell_type": "markdown",
   "metadata": {},
   "source": [
    "### 소수 찾기\n",
    "\n",
    "1. permutations 으로 숫자를 뽑는 모든 경우의 수 구하기\n",
    "\n",
    "2. 각 숫자가 소수인지 확인하기 위해선, 해당 숫자의 제곱근 + 1 까지만 검사해보면 댐!"
   ]
  },
  {
   "cell_type": "code",
   "execution_count": null,
   "metadata": {},
   "outputs": [],
   "source": [
    "from itertools import permutations\n",
    "import math\n",
    "\n",
    "def solution(numbers):\n",
    "    n = len(numbers)\n",
    "    rlt = set()\n",
    "    for i in range(1, n+1):\n",
    "        per_list = list(permutations(numbers, i))\n",
    "        for per in per_list:\n",
    "            number = int(''.join(per))\n",
    "            if number > 1:\n",
    "                flag = 1\n",
    "                for j in range(2, int(math.sqrt(number))+1):\n",
    "                    if number % j == 0:\n",
    "                        flag = 0\n",
    "                        break\n",
    "                if flag == 1:\n",
    "                    rlt.add(number)\n",
    "    answer = len(rlt)\n",
    "    return answer"
   ]
  }
 ],
 "metadata": {
  "language_info": {
   "name": "python"
  },
  "orig_nbformat": 4
 },
 "nbformat": 4,
 "nbformat_minor": 2
}
