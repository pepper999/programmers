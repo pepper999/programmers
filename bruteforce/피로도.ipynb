{
 "cells": [
  {
   "cell_type": "markdown",
   "metadata": {},
   "source": [
    "### 피로도\n",
    "\n",
    "1. 모든 가능한 순서의 조합을 구함\n",
    "\n",
    "2. 모든 순서에 대해서, 탐험 가능하면 카운트 + 1 해서 가장 큰 카운트를 출력"
   ]
  },
  {
   "cell_type": "code",
   "execution_count": null,
   "metadata": {},
   "outputs": [],
   "source": [
    "from itertools import permutations\n",
    "\n",
    "def solution(k, dungeons):\n",
    "    answer = -1\n",
    "    n = len(dungeons)\n",
    "    orders = list(permutations(dungeons, n))\n",
    "    for order in orders:\n",
    "        now = int(k)\n",
    "        cnt = 0\n",
    "        for need, use in order:\n",
    "            if now >= need:\n",
    "                now -= use\n",
    "                cnt += 1\n",
    "            else:\n",
    "                break\n",
    "        answer = max(cnt, answer)\n",
    "    return answer"
   ]
  }
 ],
 "metadata": {
  "language_info": {
   "name": "python"
  },
  "orig_nbformat": 4
 },
 "nbformat": 4,
 "nbformat_minor": 2
}
