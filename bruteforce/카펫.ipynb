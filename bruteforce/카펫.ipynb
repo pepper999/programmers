{
 "cells": [
  {
   "cell_type": "markdown",
   "metadata": {},
   "source": [
    "### 카펫\n",
    "\n",
    "1. 넓이와 높이로 가능한 수 -> 갈색과 노란색 격자의 합의 약수\n",
    "\n",
    "2. 중간에 노란색 패턴은 무조건 있어야하므로 넓이와 높이는 3보다 크거나 같음\n",
    "\n",
    "3. 갈색격자는 2*(넓이 + 높이)-4 개가 존재함\n",
    "\n",
    "4. 각 조건을 잘 이용하면 간단하게 풀림!"
   ]
  },
  {
   "cell_type": "code",
   "execution_count": null,
   "metadata": {},
   "outputs": [],
   "source": [
    "def solution(brown, yellow):\n",
    "    answer = []\n",
    "    wid_and_len = brown + yellow\n",
    "    for i in range(3, wid_and_len//3 + 1):\n",
    "        width = i\n",
    "        length = wid_and_len // width\n",
    "        if length * width == wid_and_len and 2 * (width + length) - 4 == brown:\n",
    "            if length > width:\n",
    "                answer.append(length)\n",
    "                answer.append(width)\n",
    "            else:\n",
    "                answer.append(width)\n",
    "                answer.append(length)\n",
    "            break\n",
    "    return answer"
   ]
  }
 ],
 "metadata": {
  "language_info": {
   "name": "python"
  },
  "orig_nbformat": 4
 },
 "nbformat": 4,
 "nbformat_minor": 2
}
