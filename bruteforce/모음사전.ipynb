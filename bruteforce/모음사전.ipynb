{
 "cells": [
  {
   "cell_type": "markdown",
   "metadata": {},
   "source": [
    "### 모음사전\n",
    "\n",
    "1. 백트래킹을 사용. 백트래킹 순서를 사전순으로 해서 따로 정렬을 할 필요 없게 만든다.\n",
    "\n",
    "2. 사전순으로 애초에 하기 때문에 목표 단어가 들어오게 되면, 바로 return 한다\n",
    "\n",
    "3. 바로 return 하기 때문에, 사전의 길이가 목표 단어의 위치!"
   ]
  },
  {
   "cell_type": "code",
   "execution_count": null,
   "metadata": {},
   "outputs": [],
   "source": [
    "arr = ['A','E','I','O','U']\n",
    "word_dict = []\n",
    "flag = 0\n",
    "def back(words, length, target):\n",
    "    global flag\n",
    "    if flag == 1:\n",
    "        return\n",
    "    word_dict.append(words)\n",
    "    if words == target:\n",
    "        flag = 1\n",
    "    if length == 5:\n",
    "        return\n",
    "    for i in range(5):\n",
    "        back(words+arr[i], length+1, target)\n",
    "\n",
    "def solution(word):\n",
    "    back('',0, word)\n",
    "    return len(word_dict) - 1\n",
    "\n",
    "print(solution('EIO'))"
   ]
  }
 ],
 "metadata": {
  "kernelspec": {
   "display_name": "Python 3",
   "language": "python",
   "name": "python3"
  },
  "language_info": {
   "codemirror_mode": {
    "name": "ipython",
    "version": 3
   },
   "file_extension": ".py",
   "mimetype": "text/x-python",
   "name": "python",
   "nbconvert_exporter": "python",
   "pygments_lexer": "ipython3",
   "version": "3.11.4"
  },
  "orig_nbformat": 4
 },
 "nbformat": 4,
 "nbformat_minor": 2
}
