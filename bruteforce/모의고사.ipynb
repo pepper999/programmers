{
 "cells": [
  {
   "cell_type": "markdown",
   "metadata": {},
   "source": [
    "### 모의고사\n",
    "\n",
    "1. 각각의 순환주기로 나누어 주면댐~"
   ]
  },
  {
   "cell_type": "code",
   "execution_count": null,
   "metadata": {},
   "outputs": [],
   "source": [
    "def solution(answers):\n",
    "    supo1 = [1,2,3,4,5]\n",
    "    supo2 = [2,1,2,3,2,4,2,5]\n",
    "    supo3 = [3,3,1,1,2,2,4,4,5,5]\n",
    "    right = [0] * 3\n",
    "    for i in range(len(answers)):\n",
    "        answer = answers[i]\n",
    "        if answer == supo1[i%5]:\n",
    "            right[0] += 1\n",
    "        if answer == supo2[i%8]:\n",
    "            right[1] += 1\n",
    "        if answer == supo3[i%10]:\n",
    "            right[2] += 1\n",
    "    rlt = max(right)\n",
    "    answer = []\n",
    "    for i in range(3):\n",
    "        if right[i] == rlt:\n",
    "            answer.append(i+1)\n",
    "    return answer"
   ]
  }
 ],
 "metadata": {
  "language_info": {
   "name": "python"
  },
  "orig_nbformat": 4
 },
 "nbformat": 4,
 "nbformat_minor": 2
}
