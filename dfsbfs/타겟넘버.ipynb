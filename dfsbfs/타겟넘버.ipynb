{
 "cells": [
  {
   "cell_type": "markdown",
   "metadata": {},
   "source": [
    "### 타겟 넘버\n",
    "\n",
    "1. 백트래킹. 거의 완탐"
   ]
  },
  {
   "cell_type": "code",
   "execution_count": null,
   "metadata": {},
   "outputs": [],
   "source": [
    "answer = 0\n",
    "def back(i, now, numbers, target):\n",
    "    global answer\n",
    "    if i == len(numbers):\n",
    "        if now == target:\n",
    "            answer += 1\n",
    "        return\n",
    "    back(i+1, now-numbers[i], numbers, target)\n",
    "    back(i+1, now+numbers[i], numbers, target)\n",
    "\n",
    "\n",
    "def solution(numbers, target):\n",
    "    global answer\n",
    "    back(0, 0, numbers, target)\n",
    "    return answer"
   ]
  }
 ],
 "metadata": {
  "language_info": {
   "name": "python"
  },
  "orig_nbformat": 4
 },
 "nbformat": 4,
 "nbformat_minor": 2
}
