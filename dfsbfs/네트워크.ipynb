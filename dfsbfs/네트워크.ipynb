{
 "cells": [
  {
   "cell_type": "markdown",
   "metadata": {},
   "source": [
    "### 네트워크\n",
    "\n",
    "1. 단순한 그래프 순회문제\n",
    "\n",
    "2. 그래프 순회 횟수를 세주면댐!"
   ]
  },
  {
   "cell_type": "code",
   "execution_count": null,
   "metadata": {},
   "outputs": [],
   "source": [
    "def solution(n, computers):\n",
    "    visited = [0] * n\n",
    "    answer = 0\n",
    "    def dfs(start):\n",
    "        stack = [start]\n",
    "        visited[start] = 1\n",
    "        while stack:\n",
    "            now = stack.pop()\n",
    "            for next in range(len(computers[now])):\n",
    "                if computers[now][next] and not visited[next]:\n",
    "                    stack.append(next)\n",
    "                    visited[next] = 1\n",
    "    for i in range(n):\n",
    "        if not visited[i]:\n",
    "            dfs(i)\n",
    "            answer += 1\n",
    "    return answer"
   ]
  }
 ],
 "metadata": {
  "language_info": {
   "name": "python"
  },
  "orig_nbformat": 4
 },
 "nbformat": 4,
 "nbformat_minor": 2
}
