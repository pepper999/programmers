{
 "cells": [
  {
   "cell_type": "markdown",
   "metadata": {},
   "source": [
    "### 단어 변환\n",
    "\n",
    "1. 단어를 순회하면서 변경 가능한 단어인지 검사를 실시하면서 변환!"
   ]
  },
  {
   "cell_type": "code",
   "execution_count": null,
   "metadata": {},
   "outputs": [],
   "source": [
    "from collections import deque\n",
    "\n",
    "def solution(begin, target, words):\n",
    "    if target not in words:\n",
    "        return 0\n",
    "    que = deque([(begin, 0)])\n",
    "    while que:\n",
    "        now, answer = que.popleft()\n",
    "        if now == target:\n",
    "            return answer\n",
    "        for word in words:\n",
    "            count = 0\n",
    "            for i in range(len(now)):\n",
    "                if now[i] != word[i]:\n",
    "                    count += 1\n",
    "            if count == 1:\n",
    "                que.append((word, answer + 1))"
   ]
  }
 ],
 "metadata": {
  "language_info": {
   "name": "python"
  },
  "orig_nbformat": 4
 },
 "nbformat": 4,
 "nbformat_minor": 2
}
