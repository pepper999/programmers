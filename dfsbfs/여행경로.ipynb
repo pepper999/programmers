{
 "cells": [
  {
   "cell_type": "markdown",
   "metadata": {},
   "source": [
    "### 여행경로\n",
    "\n",
    "1. 티켓을 순회하면서 사용\n",
    "\n",
    "2. 티켓중에 출발지가 지금 좌표이면서 아직 사용하지 않은 티켓을 사용\n",
    "\n",
    "3. 모든 여행지를 다 돌았다 = 방문한 공항의 갯수가 티켓의 갯수 + 1 가 되는 경우"
   ]
  },
  {
   "cell_type": "code",
   "execution_count": null,
   "metadata": {},
   "outputs": [],
   "source": [
    "def solution(tickets):\n",
    "    n = len(tickets)\n",
    "    used = [0] * n\n",
    "    def dfs(now, route):\n",
    "        if len(route) == n+1:\n",
    "            answer.append(route)\n",
    "        for i in range(n):\n",
    "            if not used[i] and tickets[i][0] == now:\n",
    "                used[i] = 1\n",
    "                dfs(tickets[i][1], route+ [tickets[i][1]])\n",
    "                used[i] = 0\n",
    "    answer = []\n",
    "    dfs('ICN', ['ICN'])\n",
    "    answer.sort()\n",
    "    answer = answer[0]\n",
    "    return answer"
   ]
  }
 ],
 "metadata": {
  "language_info": {
   "name": "python"
  },
  "orig_nbformat": 4
 },
 "nbformat": 4,
 "nbformat_minor": 2
}
