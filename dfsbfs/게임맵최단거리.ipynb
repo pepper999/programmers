{
 "cells": [
  {
   "cell_type": "markdown",
   "metadata": {},
   "source": [
    "### 게임 맵 최단거리\n",
    "\n",
    "1. 단순 너비우선탐색 구현 문제"
   ]
  },
  {
   "cell_type": "code",
   "execution_count": null,
   "metadata": {},
   "outputs": [],
   "source": [
    "from collections import deque\n",
    "    \n",
    "def solution(maps):\n",
    "    delta = [(1,0), (-1,0), (0,1), (0,-1)]\n",
    "    n, m = len(maps), len(maps[0])\n",
    "    def bfs(n, m):\n",
    "        visited = [[0 for _ in range(m)] for _ in range(n)]\n",
    "        que = deque([[0,0]])\n",
    "        visited[0][0] = 1\n",
    "        while que:\n",
    "            x, y = que.popleft()\n",
    "            if x == n-1 and y == m-1:\n",
    "                return visited[x][y]\n",
    "            for i in range(4):\n",
    "                nx = x + delta[i][0]\n",
    "                ny = y + delta[i][1]\n",
    "                if 0 <= nx < n and 0 <= ny < m and maps[nx][ny] == 1 and not visited[nx][ny]:\n",
    "                    que.append([nx, ny])\n",
    "                    visited[nx][ny] = visited[x][y] + 1\n",
    "        return -1\n",
    "    answer = bfs(n,m)\n",
    "    return answer"
   ]
  }
 ],
 "metadata": {
  "language_info": {
   "name": "python"
  },
  "orig_nbformat": 4
 },
 "nbformat": 4,
 "nbformat_minor": 2
}
