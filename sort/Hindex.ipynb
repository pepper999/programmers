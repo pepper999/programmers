{
 "cells": [
  {
   "cell_type": "markdown",
   "metadata": {},
   "source": [
    "### H-Index\n",
    "\n",
    "1. 인용문들을 오름차순으로 정렬하게 되면, 각 인덱스 i에서의 hindex 는 리스트의 길이 - i 가 된다.\n",
    "\n",
    "2. 한 좌표에서 인용이 hindex보다 처음으로 크거나 같다면, 해당 좌표의 hindex가 hindex의 최대값!"
   ]
  },
  {
   "cell_type": "code",
   "execution_count": null,
   "metadata": {},
   "outputs": [],
   "source": [
    "def solution(citations):\n",
    "    answer = 0\n",
    "    citations.sort()\n",
    "    n = len(citations)\n",
    "    for idx, citation in enumerate(citations):\n",
    "        h = n - idx\n",
    "        if citation >= h:\n",
    "            answer = h\n",
    "            break\n",
    "    return answer"
   ]
  }
 ],
 "metadata": {
  "language_info": {
   "name": "python"
  },
  "orig_nbformat": 4
 },
 "nbformat": 4,
 "nbformat_minor": 2
}
