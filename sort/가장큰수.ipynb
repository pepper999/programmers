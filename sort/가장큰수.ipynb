{
 "cells": [
  {
   "cell_type": "markdown",
   "metadata": {},
   "source": [
    "### 가장 큰 수\n",
    "\n",
    "1. 특정 조건을 통해 정렬시 사용가능한 함수 cmp_to_key\n",
    "\n",
    "2. return 이 음수 : 먼저 들어온 요소가 앞으로 정렬 return 이 양수 : 나중에 들어온 요소가 앞으로 정렬\n",
    "\n",
    "3. 리스트의 각 원소들이 1000을 넘지 않기 때문에, 두번째와 같은 풀이방법도 가능하다"
   ]
  },
  {
   "cell_type": "code",
   "execution_count": null,
   "metadata": {},
   "outputs": [],
   "source": [
    "from functools import cmp_to_key\n",
    "def solution(numbers):\n",
    "    numbers = list(map(str, numbers))\n",
    "    numbers.sort(reverse = True, key = cmp_to_key(lambda a, b : 1 if a+b > b+a else -1))\n",
    "    answer = str(int(''.join(numbers)))\n",
    "    return answer"
   ]
  },
  {
   "cell_type": "code",
   "execution_count": null,
   "metadata": {},
   "outputs": [],
   "source": [
    "def solution(numbers):\n",
    "    numbers = list(map(str, numbers))\n",
    "    numbers.sort(reverse = True, key = lambda x : x * 3)\n",
    "    answer = str(int(''.join(numbers)))\n",
    "    return answer"
   ]
  }
 ],
 "metadata": {
  "language_info": {
   "name": "python"
  },
  "orig_nbformat": 4
 },
 "nbformat": 4,
 "nbformat_minor": 2
}
