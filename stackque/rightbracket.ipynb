{
 "cells": [
  {
   "cell_type": "markdown",
   "metadata": {},
   "source": [
    "### 올바른괄호\n",
    "\n",
    "1. 스택을 활용하면 쉬운 문제!\n",
    "\n",
    "2. 왼쪽괄호를 만나면 스택에 넣고, 오른쪽 괄호를 만나면 스택에서 뺀다\n",
    "\n",
    "3. 만약 문자열을 끝까지 순회했는데, 남아있는 괄호가 있거나 오른쪽 괄호를 만났는데 스택이 비어있다면 즉시 False를 반환한다"
   ]
  },
  {
   "cell_type": "code",
   "execution_count": null,
   "metadata": {},
   "outputs": [],
   "source": [
    "def solution(s):\n",
    "    stack = []\n",
    "    for i in s:\n",
    "        if i == '(':\n",
    "            stack.append('(')\n",
    "        elif i == ')' and stack:\n",
    "            stack.pop()\n",
    "        elif i == ')' and not stack:\n",
    "            return False\n",
    "    if stack:\n",
    "        return False\n",
    "    return True"
   ]
  }
 ],
 "metadata": {
  "language_info": {
   "name": "python"
  },
  "orig_nbformat": 4
 },
 "nbformat": 4,
 "nbformat_minor": 2
}
