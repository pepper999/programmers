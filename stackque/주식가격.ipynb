{
 "cells": [
  {
   "cell_type": "markdown",
   "metadata": {},
   "source": [
    "### 주식가격"
   ]
  },
  {
   "cell_type": "code",
   "execution_count": null,
   "metadata": {},
   "outputs": [],
   "source": [
    "# 브루트 포스\n",
    "# 이중반복문으로 쉽게 해결 가능\n",
    "def solution(prices):\n",
    "    answer = [0] * len(prices)\n",
    "    for i in range(len(prices)):\n",
    "        for j in range(i+1, len(prices)):\n",
    "            if prices[i] <= prices[j]:\n",
    "                answer[i] += 1\n",
    "            else:\n",
    "                answer[i] += 1\n",
    "                break\n",
    "    return answer"
   ]
  },
  {
   "cell_type": "code",
   "execution_count": null,
   "metadata": {},
   "outputs": [],
   "source": [
    "# 스택활용\n",
    "# 리스트를 순회하면서 스택에 append한다.\n",
    "# 각 가격을 스택의 맨 뒷 숫자와 비교해서 더 작으면(앞보다 뒤가 더 작은 구간) 스택 pop\n",
    "# 스택에는 각 숫자의 인덱스가 저장되어 있으므로, 스택에서 pop한 인덱스의 결과값에 저장\n",
    "# 마지막에 스택에 마지막까지 증가하는 숫자들이 들어있으므로, 처리해줘야함\n",
    "\n",
    "def solution(prices):\n",
    "    answer = [0] * len(prices)\n",
    "    stack = []\n",
    "    for i, price in enumerate(prices):\n",
    "        while stack and price < prices[stack[-1]]:\n",
    "            j = stack.pop()\n",
    "            answer[j] = i - j\n",
    "        stack.append(i)\n",
    "    while stack:\n",
    "        j = stack.pop()\n",
    "        answer[j] = len(prices) - 1 - j\n",
    "    return answer"
   ]
  }
 ],
 "metadata": {
  "language_info": {
   "name": "python"
  },
  "orig_nbformat": 4
 },
 "nbformat": 4,
 "nbformat_minor": 2
}
