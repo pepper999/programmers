{
 "cells": [
  {
   "cell_type": "markdown",
   "metadata": {},
   "source": [
    "### 기능개발\n",
    "\n",
    "1. 기능들의 진척도를 1번 반복할때마다 speed 만큼 더해준다.\n",
    "\n",
    "2. idx 변수를 따로 둬서, 맨 앞부터 채워넣는다.\n",
    "\n",
    "3. 만약, idx 변수의 진척도가 100이 넘으면, 100이 넘지 않는 진척도가 나올 때까지 stack에 넣는다.\n",
    "\n",
    "4. stack의 길이를 반환하고, 100이 넘지 않는 진척도에서 부터 다시 위의 과정을 반복한다."
   ]
  },
  {
   "cell_type": "code",
   "execution_count": null,
   "metadata": {},
   "outputs": [],
   "source": [
    "def solution(progresses, speeds):\n",
    "    answer = []\n",
    "    stack = []\n",
    "    idx = 0\n",
    "    while True:\n",
    "        for i in range(len(progresses)):\n",
    "            progresses[i] += speeds[i]\n",
    "        while idx < len(progresses) and progresses[idx] >= 100 :\n",
    "            stack.append(idx)\n",
    "            idx += 1\n",
    "        if stack:\n",
    "            answer.append(len(stack))\n",
    "            stack = []\n",
    "        if idx == len(progresses):\n",
    "            break\n",
    "    return answer"
   ]
  }
 ],
 "metadata": {
  "language_info": {
   "name": "python"
  },
  "orig_nbformat": 4
 },
 "nbformat": 4,
 "nbformat_minor": 2
}
