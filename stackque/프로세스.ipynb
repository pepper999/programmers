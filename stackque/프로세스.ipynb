{
 "cells": [
  {
   "cell_type": "markdown",
   "metadata": {},
   "source": [
    "### 프로세스\n",
    "\n",
    "1. 우선순위를 (idx, 우선순위) 형태로 que에 저장함\n",
    "\n",
    "2. 우선순위를 오름차순으로 정렬한다음, pop한 값(우선순위가 가장 높은 값)을 현재 우선순위로 설정\n",
    "\n",
    "3. que의 원소를 popleft하면서 검사를 실시하여, 현재 우선순위와 같다면 실행횟수 + 1, 만약 위치가 목표 위치와 같다면 실행횟수 return\n",
    "\n",
    "4. 이후에 현재 우선순위를 남아있는 우선순위를 pop한 값을 다시 현재 우선순위로 설정"
   ]
  },
  {
   "cell_type": "code",
   "execution_count": null,
   "metadata": {},
   "outputs": [],
   "source": [
    "from collections import deque\n",
    "\n",
    "def solution(priorities, location):\n",
    "    que = deque([(idx, process) for idx, process in enumerate(priorities)])\n",
    "    priorities.sort()\n",
    "    top_priorities = priorities.pop()\n",
    "    cnt = 0\n",
    "    while True:\n",
    "        now = que.popleft()\n",
    "        if now[1] != top_priorities:\n",
    "            que.append(now)\n",
    "        elif now[1] == top_priorities:\n",
    "            cnt += 1\n",
    "            if now[0] == location:\n",
    "                return cnt\n",
    "            top_priorities = priorities.pop()"
   ]
  }
 ],
 "metadata": {
  "language_info": {
   "name": "python"
  },
  "orig_nbformat": 4
 },
 "nbformat": 4,
 "nbformat_minor": 2
}
