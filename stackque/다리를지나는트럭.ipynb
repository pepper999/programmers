{
 "cells": [
  {
   "cell_type": "markdown",
   "metadata": {},
   "source": [
    "### 다리를 지나는 트럭\n",
    "\n",
    "1. 다리를 deque 로 만들어서 시작!\n",
    "\n",
    "2. 맨 처음에 deque의 맨 끝에 있던 원소를 뺌\n",
    "\n",
    "3. 뺀 원소를 다리의 무게의 합 변수에 빼준 뒤, 다리의 무게 합 변수를 검사\n",
    "\n",
    "4. 만약 이번 트럭을 넣을 수 있다면, 넣고 나서 다리의 무게 합 변수를 갱신\n",
    "\n",
    "5. 넣을 수 없다면, 0을 넣음\n",
    "\n",
    "6. 넣을 수 있는 트럭을 다 넣었다면, 다리에 남아 있는 트럭이 없게 반복문 돌림"
   ]
  },
  {
   "cell_type": "code",
   "execution_count": null,
   "metadata": {},
   "outputs": [],
   "source": [
    "from collections import deque\n",
    "\n",
    "def solution(bridge_length, weight, truck_weights):\n",
    "    bridge = deque([0 for _ in range(bridge_length)])\n",
    "    time = 0\n",
    "    sum_weights = 0\n",
    "    idx = 0\n",
    "    while idx < len(truck_weights):\n",
    "        end = bridge.popleft()\n",
    "        sum_weights -= end\n",
    "        if sum_weights + truck_weights[idx] <= weight:\n",
    "            bridge.append(truck_weights[idx])\n",
    "            sum_weights += truck_weights[idx]\n",
    "            idx += 1\n",
    "            time += 1\n",
    "        else:\n",
    "            bridge.append(0)\n",
    "            time += 1\n",
    "    while sum_weights > 0:\n",
    "        sum_weights -= bridge.popleft()\n",
    "        time += 1\n",
    "    return time"
   ]
  }
 ],
 "metadata": {
  "language_info": {
   "name": "python"
  },
  "orig_nbformat": 4
 },
 "nbformat": 4,
 "nbformat_minor": 2
}
