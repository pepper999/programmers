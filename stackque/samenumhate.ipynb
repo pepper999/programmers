{
 "cells": [
  {
   "cell_type": "markdown",
   "metadata": {},
   "source": [
    "### 같은 숫자는 싫어\n",
    "\n",
    "1. arr를 순서대로 받아서 순서대로 스택에 넣음\n",
    "\n",
    "2. 스택의 맨뒤와 arr[i] 가 다르다면 스택에 넣음"
   ]
  },
  {
   "cell_type": "code",
   "execution_count": null,
   "metadata": {},
   "outputs": [],
   "source": [
    "def solution(arr):\n",
    "    stack = [arr[0]]\n",
    "    for i in range(1, len(arr)):\n",
    "        if stack[-1] != arr[i]:\n",
    "            stack.append(arr[i])\n",
    "    answer = stack\n",
    "    return answer"
   ]
  }
 ],
 "metadata": {
  "language_info": {
   "name": "python"
  },
  "orig_nbformat": 4
 },
 "nbformat": 4,
 "nbformat_minor": 2
}
