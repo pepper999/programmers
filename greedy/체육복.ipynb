{
 "cells": [
  {
   "cell_type": "markdown",
   "metadata": {},
   "source": [
    "### 체육복\n",
    "\n",
    "1. 학생수 + 1 만큼 각자의 학생이 갖고 있는 체육복의 갯수를 나타내는 리스트를 만듦\n",
    "\n",
    "2. lost 리스트를 순회하면서 잃어버린 학생의 체육복의 갯수 -1\n",
    "\n",
    "3. reserve 리스트를 순회하면서 여벌 체육복을 가진 학생의 체육복 갯수 +1\n",
    "\n",
    "4. 학생 리스트를 순회하면서, 현재 좌표 학생의 체육복의 갯수가 2개라면 왼쪽과 오른쪽 학생을 순서대로 검사하여 체육복이 없는 학생에게 빌려줌"
   ]
  },
  {
   "cell_type": "code",
   "execution_count": null,
   "metadata": {},
   "outputs": [],
   "source": [
    "def solution(n, lost, reserve):\n",
    "    students = [1 for _ in range(n+1)]\n",
    "    for i in lost:\n",
    "        students[i] -= 1\n",
    "    for i in reserve:\n",
    "        students[i] += 1\n",
    "    for i in range(1, n+1):\n",
    "        if students[i] == 2:\n",
    "            if students[i-1] == 0:\n",
    "                students[i] -= 1\n",
    "                students[i-1] += 1\n",
    "            elif i < n and students[i+1] == 0:\n",
    "                students[i] -= 1\n",
    "                students[i+1] += 1\n",
    "    answer = n\n",
    "    for i in range(1, n+1):\n",
    "        if students[i] == 0:\n",
    "            answer -= 1\n",
    "    return answer"
   ]
  }
 ],
 "metadata": {
  "language_info": {
   "name": "python"
  },
  "orig_nbformat": 4
 },
 "nbformat": 4,
 "nbformat_minor": 2
}
