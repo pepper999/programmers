{
 "cells": [
  {
   "cell_type": "markdown",
   "metadata": {},
   "source": [
    "### 가장 먼 노드"
   ]
  },
  {
   "cell_type": "code",
   "execution_count": null,
   "metadata": {},
   "outputs": [],
   "source": [
    "from collections import deque\n",
    "\n",
    "def solution(n, edge):\n",
    "    graph = [[] for _ in range(n+1)]\n",
    "    for start, end in edge:\n",
    "        graph[start].append(end)\n",
    "        graph[end].append(start)\n",
    "    visited = [0] * (n+1)\n",
    "    def bfs():\n",
    "        que = deque([1])\n",
    "        visited[1] = 1\n",
    "        while que:\n",
    "            now = que.popleft()\n",
    "            for next in graph[now]:\n",
    "                if not visited[next]:\n",
    "                    visited[next] = visited[now] + 1\n",
    "                    que.append(next)\n",
    "    bfs()\n",
    "    max_rlt = max(visited)\n",
    "    answer = 0\n",
    "    for distance in visited:\n",
    "        if distance == max_rlt:\n",
    "            answer += 1\n",
    "    return answer"
   ]
  }
 ],
 "metadata": {
  "language_info": {
   "name": "python"
  },
  "orig_nbformat": 4
 },
 "nbformat": 4,
 "nbformat_minor": 2
}
