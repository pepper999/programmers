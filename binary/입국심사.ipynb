{
 "cells": [
  {
   "cell_type": "markdown",
   "metadata": {},
   "source": [
    "### 입국심사"
   ]
  },
  {
   "cell_type": "code",
   "execution_count": null,
   "metadata": {},
   "outputs": [],
   "source": [
    "def solution(n, times):\n",
    "    answer = 0\n",
    "    left, right = 1, max(times) * n\n",
    "    while left <= right:\n",
    "        mid = (left + right) // 2\n",
    "        people = 0\n",
    "        for time in times:\n",
    "            people += mid // time\n",
    "            if people >= n:\n",
    "                break\n",
    "        if people >= n:\n",
    "            answer = mid\n",
    "            right = mid - 1\n",
    "        else:\n",
    "            left = mid + 1\n",
    "    return answer"
   ]
  }
 ],
 "metadata": {
  "language_info": {
   "name": "python"
  },
  "orig_nbformat": 4
 },
 "nbformat": 4,
 "nbformat_minor": 2
}
