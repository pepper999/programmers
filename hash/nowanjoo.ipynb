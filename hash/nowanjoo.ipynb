{
 "cells": [
  {
   "cell_type": "markdown",
   "metadata": {},
   "source": [
    "### 완주하지 못한 선수\n",
    "\n",
    "1. 단 한명의 완주하지 않는 사람만을 찾아내면 되기 때문에, 전 리스트를 순회하면서 숫자를 세고 도착한 사람들을 세서 빼주면 된다."
   ]
  },
  {
   "cell_type": "code",
   "execution_count": null,
   "metadata": {},
   "outputs": [],
   "source": [
    "def solution(participant, completion):\n",
    "    dict = {}\n",
    "    for i in range(len(participant)):\n",
    "        if participant[i] not in dict:\n",
    "            dict[participant[i]] = 1\n",
    "        else:\n",
    "            dict[participant[i]] += 1\n",
    "    for i in range(len(completion)):\n",
    "        dict[completion[i]] -= 1\n",
    "    for i in dict:\n",
    "        if dict[i] == 1:\n",
    "            return i"
   ]
  }
 ],
 "metadata": {
  "language_info": {
   "name": "python"
  },
  "orig_nbformat": 4
 },
 "nbformat": 4,
 "nbformat_minor": 2
}
