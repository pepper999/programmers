{
 "cells": [
  {
   "cell_type": "markdown",
   "metadata": {},
   "source": [
    "### 폰캣몬\n",
    "\n",
    "1. N 마리중 N/2 마리만 데리고 갈 수 있기 때문에, 최댓값은 len(arr)//2임\n",
    "\n",
    "2. 중복되지 않는 폰캣몬으로 데리고 가야하므로, set(arr)도 실시\n",
    "\n",
    "3. len(arr)//2 와 set(arr) 중에서 작은값을 결과값으로 출력"
   ]
  },
  {
   "cell_type": "code",
   "execution_count": null,
   "metadata": {},
   "outputs": [],
   "source": [
    "def solution(arr):\n",
    "    return min(len(arr)//2, len(set(arr)))"
   ]
  }
 ],
 "metadata": {
  "language_info": {
   "name": "python"
  },
  "orig_nbformat": 4
 },
 "nbformat": 4,
 "nbformat_minor": 2
}
