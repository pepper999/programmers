{
 "cells": [
  {
   "cell_type": "markdown",
   "metadata": {},
   "source": [
    "### 전화번호 목록\n",
    "\n",
    "1. 문자열을 정렬하면, 맨앞자리수부터 작은순서대로 정렬이 됨!\n",
    "\n",
    "2. 접두어이기 떄문에, 정렬한 상태에서 빠르게 해결이 가능"
   ]
  },
  {
   "cell_type": "code",
   "execution_count": null,
   "metadata": {},
   "outputs": [],
   "source": [
    "def solution(phone_book):\n",
    "    phone_book.sort()\n",
    "    for i in range(len(phone_book)-1):\n",
    "        if len(phone_book[i]) > len(phone_book[i+1]):\n",
    "            if phone_book[i][:len(phone_book[i+1])] == phone_book[i+1]:\n",
    "                return False\n",
    "        else:\n",
    "            if phone_book[i+1][:len(phone_book[i])] == phone_book[i]:\n",
    "                return False\n",
    "    return True"
   ]
  }
 ],
 "metadata": {
  "language_info": {
   "name": "python"
  },
  "orig_nbformat": 4
 },
 "nbformat": 4,
 "nbformat_minor": 2
}
