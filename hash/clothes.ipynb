{
 "cells": [
  {
   "cell_type": "markdown",
   "metadata": {},
   "source": [
    "### 의상\n",
    "\n",
    "1. 카테고리별로, 딕셔너리에 저장\n",
    "\n",
    "2. 카테고리별로 리스트의 길이 + 1 이 해당 카테고리의 옷을 입는 경우의수(벗은 경우 추가)\n",
    "\n",
    "3. 모든 옷을 벗은 경우만 제외하고이기 때문에, 딕셔너리를 순회하면서 리스트 길이 + 1 을 곱해줌\n",
    "\n",
    "4. 마지막에 -1 해서 결과값 출력"
   ]
  },
  {
   "cell_type": "code",
   "execution_count": null,
   "metadata": {},
   "outputs": [],
   "source": [
    "def solution(clothes):\n",
    "    dict = {}\n",
    "    for items, category in clothes:\n",
    "        if category not in dict:\n",
    "            dict[category] = [items]\n",
    "        else:\n",
    "            dict[category].append(items)\n",
    "    answer = 1\n",
    "    for key in dict:\n",
    "        answer *= len(dict[key]) + 1\n",
    "    answer -= 1\n",
    "    return answer"
   ]
  }
 ],
 "metadata": {
  "language_info": {
   "name": "python"
  },
  "orig_nbformat": 4
 },
 "nbformat": 4,
 "nbformat_minor": 2
}
