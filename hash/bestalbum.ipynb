{
 "cells": [
  {
   "cell_type": "markdown",
   "metadata": {},
   "source": [
    "### 베스트앨범\n",
    "\n",
    "1. 장르별로 각 노래를 (재생횟수, 고유값) 형태로 저장하는 딕셔너리 생성\n",
    "\n",
    "2. 총 재생횟수를 저장하는 딕셔너리를 생성\n",
    "\n",
    "3. 장르별로 총 재생횟수를 딕셔너리에 저장\n",
    "\n",
    "4. 재생 횟수 딕셔너리를 정렬한 뒤, 재생 횟수 딕셔너리의 순서대로 장르 선택\n",
    "\n",
    "5. 두개 씩 뽑아서 결과 리스트에 저장"
   ]
  },
  {
   "cell_type": "code",
   "execution_count": null,
   "metadata": {},
   "outputs": [],
   "source": [
    "def solution(genres, plays):\n",
    "    genre_dict = {}\n",
    "    answer = []\n",
    "\n",
    "    for i in range(len(genres)):\n",
    "        genre = genres[i]\n",
    "        play_count = plays[i]\n",
    "        if genre not in genre_dict:\n",
    "            genre_dict[genre] = []\n",
    "        genre_dict[genre].append((play_count, i))\n",
    "\n",
    "    cnt_dict = {}  # 장르별 총 재생 횟수를 저장하는 딕셔너리\n",
    "    for genre, songs in genre_dict.items():\n",
    "        total_plays = sum(play for play, _ in songs)\n",
    "        cnt_dict[genre] = total_plays\n",
    "    # 총 재생 횟수를 기준으로 내림차순 정렬\n",
    "    cnt_dict = sorted(cnt_dict.items(), key=lambda x: x[1], reverse=True)\n",
    "    # 각 장르에서 최대 2개의 곡을 선택\n",
    "    for genre, _ in cnt_dict:\n",
    "        songs = genre_dict[genre]\n",
    "        songs.sort(key=lambda x: (-x[0], x[1]))\n",
    "        answer += [song[1] for song in songs[:2]]\n",
    "\n",
    "    return answer"
   ]
  }
 ],
 "metadata": {
  "language_info": {
   "name": "python"
  },
  "orig_nbformat": 4
 },
 "nbformat": 4,
 "nbformat_minor": 2
}
