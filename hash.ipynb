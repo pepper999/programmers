{
 "cells": [
  {
   "cell_type": "code",
   "execution_count": null,
   "metadata": {},
   "outputs": [],
   "source": [
    "# 폰켓몬\n",
    "def solution(nums):\n",
    "    return min(len(nums)/2, len(set(nums)))"
   ]
  },
  {
   "cell_type": "code",
   "execution_count": null,
   "metadata": {},
   "outputs": [],
   "source": [
    "# 완주하지 못한 선수\n",
    "from collections import Counter\n",
    "\n",
    "def solution(participant, completion):\n",
    "    cnt_pnt = Counter(participant)\n",
    "    cnt_com = Counter(completion)\n",
    "    # 딕셔너리는 객체끼리 빼기가 가능!!\n",
    "    answer = cnt_pnt - cnt_com\n",
    "    return list(answer.keys())[0]"
   ]
  }
 ],
 "metadata": {
  "kernelspec": {
   "display_name": "Python 3",
   "language": "python",
   "name": "python3"
  },
  "language_info": {
   "codemirror_mode": {
    "name": "ipython",
    "version": 3
   },
   "file_extension": ".py",
   "mimetype": "text/x-python",
   "name": "python",
   "nbconvert_exporter": "python",
   "pygments_lexer": "ipython3",
   "version": "3.9.13"
  },
  "orig_nbformat": 4
 },
 "nbformat": 4,
 "nbformat_minor": 2
}
