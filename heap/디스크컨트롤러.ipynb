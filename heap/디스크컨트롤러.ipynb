{
 "cells": [
  {
   "cell_type": "markdown",
   "metadata": {},
   "source": [
    "### 디스크 컨트롤러\n",
    "\n",
    "1. 처리시간이 짧은거부터 처리하면 됨\n",
    "\n",
    "2. 현재시간을 변수 now로 둔 뒤, 이전 작업이 끝난 시점 ~ 현재 시점 사이에서 실행할 수 있는 작업들만 heap에 푸쉬\n",
    "\n",
    "3. 만약 푸쉬할 수 있는 작업이 없다면, now + 1 을 함\n",
    "\n",
    "4. 현재시점에서 실행할 수 있는 작업들이 존재한다면, heap에서 짧은 순서대로 뽑아냄."
   ]
  },
  {
   "cell_type": "code",
   "execution_count": null,
   "metadata": {},
   "outputs": [],
   "source": [
    "import heapq\n",
    "\n",
    "def solution(jobs):\n",
    "    heap = []\n",
    "    now, idx, answer = 0, 0, 0\n",
    "    last_job = -1\n",
    "    nums = len(jobs)\n",
    "    while idx < nums:\n",
    "        for start, need in jobs:\n",
    "            if last_job < start <= now:\n",
    "                heapq.heappush(heap, (need, start))\n",
    "        if heap:\n",
    "            length, now_start = heapq.heappop(heap)\n",
    "            last_job = now\n",
    "            now += length\n",
    "            answer += now - now_start\n",
    "            idx += 1\n",
    "        else:\n",
    "            now += 1\n",
    "    answer //= nums\n",
    "    return answer\n",
    "print(solution([[0, 3], [1, 9], [2, 6]]))"
   ]
  }
 ],
 "metadata": {
  "language_info": {
   "name": "python"
  },
  "orig_nbformat": 4
 },
 "nbformat": 4,
 "nbformat_minor": 2
}
