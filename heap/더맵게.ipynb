{
 "cells": [
  {
   "cell_type": "markdown",
   "metadata": {},
   "source": [
    "### 더 맵게\n",
    "\n",
    "1. 힙자료구조로 간단히 문제해결가능!"
   ]
  },
  {
   "cell_type": "code",
   "execution_count": null,
   "metadata": {},
   "outputs": [],
   "source": [
    "import heapq\n",
    "\n",
    "def solution(scoville, K):\n",
    "    heapq.heapify(scoville)\n",
    "    answer = 0\n",
    "    while scoville[0] < K and len(scoville) >= 2:\n",
    "        food1 = heapq.heappop(scoville)\n",
    "        food2 = heapq.heappop(scoville)\n",
    "        new_food = food1 + (food2 * 2)\n",
    "        heapq.heappush(scoville, new_food)\n",
    "        answer += 1\n",
    "    if scoville[0] < K:\n",
    "        answer = -1\n",
    "    return answer"
   ]
  }
 ],
 "metadata": {
  "language_info": {
   "name": "python"
  },
  "orig_nbformat": 4
 },
 "nbformat": 4,
 "nbformat_minor": 2
}
