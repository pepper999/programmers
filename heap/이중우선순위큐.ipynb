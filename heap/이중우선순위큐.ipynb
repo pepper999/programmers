{
 "cells": [
  {
   "cell_type": "markdown",
   "metadata": {},
   "source": [
    "### 이중우선순위큐\n",
    "\n",
    "\n",
    "1. 최대힙과 최소힙 둘 모두를 구현\n",
    "\n",
    "2. 최댓값을 제거하는 명령은 최대힙에서 pop한 원소를 최소힙에서도 remove\n",
    "\n",
    "3. 최솟값을 제거하는 명령은 최소힙에서 pop한 원소를 최대힙에서도 remove\n",
    "\n",
    "4. 모든 명령을 순회한 뒤 힙에서 최댓값과 최솟값 return"
   ]
  },
  {
   "cell_type": "code",
   "execution_count": null,
   "metadata": {},
   "outputs": [],
   "source": [
    "import heapq\n",
    "\n",
    "def solution(operations):\n",
    "    minheap = []\n",
    "    maxheap = []\n",
    "    for operation in operations:\n",
    "        query, *nums = operation.split()\n",
    "        nums = int(''.join(nums))\n",
    "        if query == 'I':\n",
    "            heapq.heappush(minheap, nums)\n",
    "            heapq.heappush(maxheap, -nums)\n",
    "        elif int(nums) > 0 and minheap:\n",
    "            minheap.remove(-heapq.heappop(maxheap))\n",
    "        elif minheap:\n",
    "            maxheap.remove(-heapq.heappop(minheap))\n",
    "    if maxheap and minheap:\n",
    "        answer = [-maxheap[0], minheap[0]]\n",
    "    else:\n",
    "        answer = [0,0]\n",
    "    return answer"
   ]
  }
 ],
 "metadata": {
  "language_info": {
   "name": "python"
  },
  "orig_nbformat": 4
 },
 "nbformat": 4,
 "nbformat_minor": 2
}
